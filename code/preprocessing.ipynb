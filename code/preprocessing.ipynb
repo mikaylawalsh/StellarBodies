{
 "cells": [
  {
   "cell_type": "code",
   "execution_count": null,
   "metadata": {},
   "outputs": [],
   "source": [
    "import skimage as ski\n",
    "import numpy as np\n",
    "import matplotlib.pyplot as plt\n",
    "import torch\n",
    "from torchvision.transforms import v2\n",
    "import os\n",
    "from tqdm import tqdm\n",
    "torch.cuda.is_available()\n",
    "device = torch.device(\"cuda:0\")"
   ]
  },
  {
   "cell_type": "code",
   "execution_count": null,
   "metadata": {},
   "outputs": [],
   "source": [
    "# x shift from original image\n",
    "# y shift from original \n",
    "# 360 degree rotations\n",
    "# brightening\n",
    "# blurring\n",
    "# small zoom\n",
    "\n",
    "transform = v2.Compose([\n",
    "    v2.RandomRotation(180),\n",
    "    v2.ColorJitter(brightness=0.2),\n",
    "    v2.GaussianBlur(5, (0.1,2)),\n",
    "    #v2.RandomZoomOut(side_range=(1., 1.2), p=0.5)\n",
    "])\n",
    "\n",
    "def augment(base):\n",
    "    base = np.expand_dims(np.transpose(base[...,:3],(2,0,1)), axis=0)\n",
    "    dataset = torch.tensor(base[...,275-100:835+100,540-100:1380+100])\n",
    "    for i in tqdm(range(132)):\n",
    "        x = int(np.random.uniform(-100,100))\n",
    "        y = int(np.random.uniform(-100,100))\n",
    "        temp = base[...,175+y:935+y,440+x:1480+x]\n",
    "        dataset = torch.vstack((dataset, torch.tensor(temp)))\n",
    "    for i in tqdm(range(len(dataset))):\n",
    "        dataset = torch.vstack((dataset,transform(dataset[i:i+1,...]), transform(dataset[i:i+1,...])))\n",
    "    dataset = v2.CenterCrop((560,840))(dataset)\n",
    "    return dataset\n"
   ]
  },
  {
   "cell_type": "code",
   "execution_count": null,
   "metadata": {},
   "outputs": [],
   "source": [
    "directory = \"C:/Users/20pj2/Documents/Cs1430/finalproj/StellarBodies/raw_data\"\n",
    "# img_out = torch.empty((0,3,560,840))\n",
    "# labels_out = torch.empty((0,1))\n",
    "i = 0\n",
    "for filename in os.listdir(directory):\n",
    "    f = os.path.join(directory, filename)\n",
    "    img = ski.io.imread(f)\n",
    "    out = augment(img)\n",
    "    label = torch.ones((len(out), 1)) * i\n",
    "    # img_out = torch.vstack((img_out, out))\n",
    "    # labels_out = torch.vstack((labels_out, label))\n",
    "    torch.save(out,f\"../data/images{i}.pt\")\n",
    "    torch.save(label,f\"../data/labels{i}.pt\")\n",
    "    print(f\"done {i}\")\n",
    "    i+=1\n",
    "\n",
    "# torch.save(img_out,\"images.pt\")\n",
    "# torch.save(labels_out,\"labels.pt\")\n"
   ]
  },
  {
   "cell_type": "code",
   "execution_count": null,
   "metadata": {},
   "outputs": [],
   "source": [
    "im_list = []\n",
    "lable_list = []\n",
    "for i in range(10):\n",
    "    im_list.append(torch.load(f\"../data/images{i}.pt\"))\n",
    "    lable_list.append(torch.load(f\"../data/labels{i}.pt\"))\n",
    "\n",
    "im_list = torch.cat(im_list, 0)\n",
    "lable_list = torch.cat(lable_list,0)\n",
    "torch.save(im_list, \"../data/images.pt\")\n",
    "torch.save(lable_list,\"../data/labels.pt\")"
   ]
  },
  {
   "cell_type": "code",
   "execution_count": null,
   "metadata": {},
   "outputs": [],
   "source": [
    "ims = torch.load(\"../data/images.pt\")\n",
    "labs = torch.load(\"../data/labels.pt\")\n",
    "_, axs = plt.subplots(10,2, figsize=(10, 25))\n",
    "axs = axs.flatten()\n",
    "for img, lab, ax in zip(ims, labs, axs):\n",
    "    img = torch.permute(img,(1,2,0)).int()\n",
    "    ax.imshow(img)\n",
    "    ax.set_title(lab)\n",
    "plt.show()"
   ]
  }
 ],
 "metadata": {
  "language_info": {
   "name": "python"
  }
 },
 "nbformat": 4,
 "nbformat_minor": 2
}
