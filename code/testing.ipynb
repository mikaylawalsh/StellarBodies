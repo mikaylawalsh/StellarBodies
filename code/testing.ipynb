{
 "cells": [
  {
   "cell_type": "code",
   "execution_count": 1,
   "metadata": {},
   "outputs": [],
   "source": [
    "import sys\n",
    "import time\n",
    "import cv2\n",
    "import numpy as np\n",
    "import torch\n",
    "import torchvision\n",
    "from model import StellarCNN, train, test"
   ]
  },
  {
   "cell_type": "code",
   "execution_count": 5,
   "metadata": {},
   "outputs": [
    {
     "data": {
      "text/plain": [
       "StellarCNN(\n",
       "  (loss_fn): CrossEntropyLoss()\n",
       "  (conv1): Conv2d(3, 32, kernel_size=(9, 9), stride=(3, 3))\n",
       "  (leaky1): LeakyReLU(negative_slope=0.01)\n",
       "  (max_pool1): MaxPool2d(kernel_size=3, stride=3, padding=0, dilation=1, ceil_mode=False)\n",
       "  (conv2): Conv2d(32, 16, kernel_size=(9, 9), stride=(3, 3))\n",
       "  (leaky2): LeakyReLU(negative_slope=0.01)\n",
       "  (max_pool2): MaxPool2d(kernel_size=3, stride=3, padding=0, dilation=1, ceil_mode=False)\n",
       "  (flat): Flatten(start_dim=1, end_dim=-1)\n",
       "  (dense1): Linear(in_features=864, out_features=520, bias=True)\n",
       "  (leaky3): LeakyReLU(negative_slope=0.01)\n",
       "  (dense2): Linear(in_features=520, out_features=128, bias=True)\n",
       "  (leaky4): LeakyReLU(negative_slope=0.01)\n",
       "  (dense3): Linear(in_features=128, out_features=10, bias=True)\n",
       "  (softmax): Softmax(dim=None)\n",
       ")"
      ]
     },
     "execution_count": 5,
     "metadata": {},
     "output_type": "execute_result"
    }
   ],
   "source": [
    "model = StellarCNN(3, 10)\n",
    "model.load_state_dict(torch.load('../model_state2.pt'))\n",
    "model.eval()"
   ]
  }
 ],
 "metadata": {
  "kernelspec": {
   "display_name": "cs1430",
   "language": "python",
   "name": "python3"
  },
  "language_info": {
   "codemirror_mode": {
    "name": "ipython",
    "version": 3
   },
   "file_extension": ".py",
   "mimetype": "text/x-python",
   "name": "python",
   "nbconvert_exporter": "python",
   "pygments_lexer": "ipython3",
   "version": "3.9.18"
  }
 },
 "nbformat": 4,
 "nbformat_minor": 2
}
